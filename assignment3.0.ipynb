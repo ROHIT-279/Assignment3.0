{
 "cells": [
  {
   "cell_type": "code",
   "execution_count": 1,
   "id": "8a6c9646-7f72-4648-8aa0-091015b90721",
   "metadata": {},
   "outputs": [],
   "source": [
    "#Q1. Python programming language was developed by \"Guido van Rossum\""
   ]
  },
  {
   "cell_type": "code",
   "execution_count": 2,
   "id": "99b15580-4b40-43fb-b21e-c6ce8d6044d2",
   "metadata": {},
   "outputs": [],
   "source": [
    "#Q2. Python supports Procedural programming , Object-Oriented programming , Functional programming , Scripting etc."
   ]
  },
  {
   "cell_type": "code",
   "execution_count": 3,
   "id": "0ab3d6cd-f343-4bd6-ab8c-fac8ccf57aad",
   "metadata": {},
   "outputs": [],
   "source": [
    "#Q3. YES "
   ]
  },
  {
   "cell_type": "code",
   "execution_count": 4,
   "id": "696670e5-4c30-4af2-a7c4-dd1cb73716c8",
   "metadata": {},
   "outputs": [],
   "source": [
    "#Q4. .PY"
   ]
  },
  {
   "cell_type": "code",
   "execution_count": 5,
   "id": "faa08f81-91ce-4f2e-ab52-94d8b36e4b72",
   "metadata": {},
   "outputs": [],
   "source": [
    "#Q5. Python code is interpreted"
   ]
  },
  {
   "cell_type": "code",
   "execution_count": 6,
   "id": "5ecd4099-58c3-42e9-ae0a-a0be09e1e01a",
   "metadata": {},
   "outputs": [],
   "source": [
    "#Q6. Function for \"DEF\" , Loops for \"FOR , WHILE\" , Conditional for (>,<= etc)"
   ]
  },
  {
   "cell_type": "code",
   "execution_count": 8,
   "id": "d88eb3c2-fbc1-494e-abe9-9025c4134481",
   "metadata": {},
   "outputs": [
    {
     "name": "stdout",
     "output_type": "stream",
     "text": [
      "HALLOW PWSKILLS\n"
     ]
    }
   ],
   "source": [
    "#Q7. \n",
    "print(\"HALLOW PWSKILLS\")"
   ]
  },
  {
   "cell_type": "code",
   "execution_count": 9,
   "id": "9631d666-edee-43f7-bc89-3152b97dbcbf",
   "metadata": {},
   "outputs": [
    {
     "name": "stdout",
     "output_type": "stream",
     "text": [
      "Python version (using sys module): 3.10.8 | packaged by conda-forge | (main, Nov 22 2022, 08:26:04) [GCC 10.4.0]\n",
      "Python version (unins platform module): 3.10.8\n"
     ]
    }
   ],
   "source": [
    "#Q8. \n",
    "import sys\n",
    "import platform\n",
    "print(\"Python version (using sys module):\",sys.version)\n",
    "print(\"Python version (unins platform module):\",platform.python_version())"
   ]
  },
  {
   "cell_type": "code",
   "execution_count": 10,
   "id": "ebb92fc3-233e-48fc-9659-8f5539c4fea6",
   "metadata": {},
   "outputs": [],
   "source": [
    "#Q9. PIP stands for \"Pip Installs Packages\"."
   ]
  },
  {
   "cell_type": "code",
   "execution_count": 11,
   "id": "d05560ff-a60e-4829-9c6f-cf5f988894eb",
   "metadata": {},
   "outputs": [],
   "source": [
    "#Q10. in python , the amximum length of an identifier(variable , funtion , class name etc)  "
   ]
  },
  {
   "cell_type": "code",
   "execution_count": 12,
   "id": "e92c3d94-5d59-4faa-b37e-db1fd24ec1ac",
   "metadata": {},
   "outputs": [],
   "source": [
    "#Q13. easy to learn nad use, largr and active community,Cross-platform comptitability ,Third-party package and liobraries"
   ]
  },
  {
   "cell_type": "code",
   "execution_count": 13,
   "id": "cef13b98-f93f-4ea0-82b2-5dc5f49d9331",
   "metadata": {},
   "outputs": [],
   "source": [
    "#Q11. build-in funtions are : print(), reverse(), upper(), lower() etc"
   ]
  },
  {
   "cell_type": "code",
   "execution_count": 14,
   "id": "fb6ff773-667b-474c-a92e-559176ed24c1",
   "metadata": {},
   "outputs": [],
   "source": [
    "#Q12. Memory management in Python is handled automatically by the Python runtime environment through a mechanism called \"garbage collection\". This means that developers do not need to manually allocate or deallocate memory like they would in other programming languages."
   ]
  },
  {
   "cell_type": "code",
   "execution_count": 16,
   "id": "7c0240fd-95d5-4d37-b2e5-3ade7eeaa8c6",
   "metadata": {},
   "outputs": [],
   "source": [
    "#Q14.\n",
    "#1.Download the Python installer for Windows from the official Python website at https://www.python.org/downloads/.\n",
    "#2.Double-click the downloaded installer to launch the Python installer.\n",
    "#3.Follow the prompts to install Python, selecting the installation directory and any optional features you want to install.\n",
    "#4.During the installation process, make sure to check the \"Add Python to PATH\" option to add Python to your system's path variables. This will allow you to run Python from the command line without having to specify the full path to the Python executable.\n",
    "#5.Once the installation is complete, open the Command Prompt and type \"python\" to verify that Python is installed and working correctly. You should see the Python interpreter prompt, which looks like \">>>\". Type \"exit()\" to exit the interpreter.\n",
    "#6.To set the path variables manually, right-click on \"This PC\" or \"My Computer\" and select \"Properties\".\n",
    "#7.Click on \"Advanced system settings\" and then click on the \"Environment Variables\" button.\n",
    "#8.Under \"System variables\", scroll down and click on \"Path\", then click the \"Edit\" button.\n",
    "#9.Click \"New\" and add the path to the Python installation directory. For example, if you installed Python in the default location, the path would be \"C:\\Python39\".\n",
    "#10.Click \"OK\" to close all the windows and save the changes.\n",
    "#11.Open a new Command Prompt window and type \"python\" to verify that Python is now in your path and working correctly.\n",
    "#12.That's it! You should now have Python installed and set up on your Windows system."
   ]
  },
  {
   "cell_type": "code",
   "execution_count": null,
   "id": "2fa22ca0-b475-4c32-983b-b3fe7e780674",
   "metadata": {},
   "outputs": [],
   "source": []
  }
 ],
 "metadata": {
  "kernelspec": {
   "display_name": "Python 3 (ipykernel)",
   "language": "python",
   "name": "python3"
  },
  "language_info": {
   "codemirror_mode": {
    "name": "ipython",
    "version": 3
   },
   "file_extension": ".py",
   "mimetype": "text/x-python",
   "name": "python",
   "nbconvert_exporter": "python",
   "pygments_lexer": "ipython3",
   "version": "3.10.8"
  }
 },
 "nbformat": 4,
 "nbformat_minor": 5
}
